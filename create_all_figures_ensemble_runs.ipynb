{
 "cells": [
  {
   "cell_type": "markdown",
   "metadata": {},
   "source": [
    "# Introduction\n",
    "\n",
    "This notebook contains all code that has been used to analyze the model runs for the \"Never train an LSTM on a single basin\" paper by Kratzert et al. (in review). To be able to run this notebook, make sure to download the acompanying data of the paper, as well as the CAMELS US dataset and the Benchmark models that were released for the CAMELS US basins. All links can be found in the data section of the paper."
   ]
  },
  {
   "cell_type": "markdown",
   "metadata": {},
   "source": [
    "# Imports"
   ]
  },
  {
   "cell_type": "code",
   "execution_count": 2,
   "metadata": {},
   "outputs": [],
   "source": [
    "import more_itertools\n",
    "import pickle\n",
    "from pathlib import Path\n",
    "from typing import Tuple\n",
    "\n",
    "import geopandas as gpd\n",
    "import matplotlib as mpl\n",
    "import matplotlib.pyplot as plt\n",
    "import numpy as np\n",
    "import pandas as pd\n",
    "import torch\n",
    "import xarray as xr\n",
    "from scipy.stats import wilcoxon\n",
    "from tqdm.notebook import tqdm\n",
    "from tensorboard.backend.event_processing import event_accumulator\n",
    "\n",
    "from neuralhydrology.datasetzoo import camelsus\n",
    "from neuralhydrology.evaluation import metrics as metrics_lib\n",
    "from neuralhydrology.evaluation import utils as nh_eval_utils\n"
   ]
  },
  {
   "cell_type": "markdown",
   "metadata": {},
   "source": [
    "# Global variables\n",
    "\n",
    "Make sure to adapt the paths below according to your local copy of the paper data."
   ]
  },
  {
   "cell_type": "code",
   "execution_count": 105,
   "metadata": {},
   "outputs": [],
   "source": [
    "# Path to the root directory of the provided data of the paper.\n",
    "PAPER_DIR = Path(\"/usr/local/google/home/kratzert/Data/single-basin-vs-regional-model\")\n",
    "\n",
    "# Path to the benchmark models, downloaded from https://www.hydroshare.org/resource/474ecc37e7db45baa425cdb4fc1b61e1/\n",
    "# The path should point to the directory that contains the extracted per-basin netCDF files.\n",
    "BENCHMARK_MODEL_DIR = Path(\"/usr/local/google/home/kratzert/Data/CAMELS_US_benchmark_models\")\n",
    "\n",
    "\n",
    "# Path to CAMELS US directory. Required to load the gauge locations.\n",
    "CAMELS_DIR = Path(\"/usr/local/google/home/kratzert/Data/CAMELS_US\")"
   ]
  },
  {
   "cell_type": "code",
   "execution_count": 106,
   "metadata": {},
   "outputs": [
    {
     "name": "stdout",
     "output_type": "stream",
     "text": [
      "Created empty figure directory at /usr/local/google/home/kratzert/Data/single-basin-vs-regional-model/figures\n"
     ]
    }
   ],
   "source": [
    "FIGURE_DIR = PAPER_DIR / \"figures\"\n",
    "RUN_DIRS = PAPER_DIR / \"run_dirs\"\n",
    "if not FIGURE_DIR.is_dir():\n",
    "    FIGURE_DIR.mkdir()\n",
    "    print(f\"Created empty figure directory at {FIGURE_DIR}\")"
   ]
  },
  {
   "cell_type": "markdown",
   "metadata": {},
   "source": [
    "# Global plot settings\n",
    "\n",
    "Note, all figure layouts were optimized for the requirements of HESS publications. That is, all plots are created in the final paper size (either 8.3cm width or 12cm width). It might be better to look at the figures in the saved pdf format than in this notebook."
   ]
  },
  {
   "cell_type": "code",
   "execution_count": 7,
   "metadata": {},
   "outputs": [],
   "source": [
    "mpl.rcParams['axes.labelsize'] = 6\n",
    "mpl.rcParams['axes.linewidth'] = 0.4\n",
    "mpl.rcParams['ytick.major.width'] = 0.4\n",
    "mpl.rcParams['xtick.major.width'] = 0.4\n",
    "mpl.rcParams['ytick.minor.width'] = 0.4\n",
    "mpl.rcParams['xtick.minor.width'] = 0.4\n",
    "mpl.rcParams['xtick.labelsize'] = 5\n",
    "mpl.rcParams['ytick.labelsize'] = 5\n",
    "mpl.rcParams['legend.fontsize'] = 4\n",
    "mpl.rcParams['lines.markersize'] = 2\n",
    "mpl.rcParams['lines.linewidth'] = 0.5\n",
    "mpl.rcParams[\"axes.titlesize\"] = 7\n",
    "mpl.rcParams[\"grid.color\"] = \"#eeeeee\"\n",
    "mpl.rcParams[\"grid.linewidth\"] = 0.5\n",
    "mpl.rcParams[\"axes.spines.right\"] = False\n",
    "mpl.rcParams[\"axes.spines.top\"] = False"
   ]
  },
  {
   "cell_type": "markdown",
   "metadata": {},
   "source": [
    "# Helper functions"
   ]
  },
  {
   "cell_type": "code",
   "execution_count": 8,
   "metadata": {},
   "outputs": [],
   "source": [
    "def cm2inch(width: float, height: float) -> Tuple[float, float]:\n",
    "    \"\"\"Converts figure size from centimeters to inch.\"\"\"\n",
    "    inch = 2.54\n",
    "    return (width / inch, height / inch)\n",
    "\n",
    "def ecdf(x: np.ndarray) -> Tuple[np.ndarray, np.ndarray]:\n",
    "    \"\"\"Calculates empirical cummulative density function.\"\"\"\n",
    "    xs = np.sort(x)\n",
    "    ys = np.arange(1, len(xs) + 1) / float(len(xs))\n",
    "    return xs, ys\n",
    "\n",
    "def get_validation_data_as_series(event_file: Path, name: str) -> pd.Series:\n",
    "    \"\"\"Returns the validation metrics over epochs as pandas series.\"\"\"\n",
    "    ea = event_accumulator.EventAccumulator(str(event_file),\n",
    "    size_guidance={\n",
    "        event_accumulator.SCALARS: 0,  # 0 means that all events are loaded\n",
    "    })\n",
    "    ea.Reload()\n",
    "    epochs = []\n",
    "    values = []\n",
    "    for event in ea.Scalars('valid/median_nse'):\n",
    "        epochs.append(event.step)\n",
    "        values.append(event.value)\n",
    "        ser = pd.Series(data=values, index=epochs, name=name)\n",
    "        ser.index.name = \"Epoch\"\n",
    "    return ser\n",
    "\n",
    "def get_test_metrics(run_dir: Path) -> pd.DataFrame:\n",
    "    \"\"\"Loads the test metrics into a pandas DataFrame.\"\"\"\n",
    "    # We only allow a single test_metrics file. This is the case after we cleaned the \n",
    "    # directories to only include the results of the epoch with the highest validation score\n",
    "    metric_file = more_itertools.one(list((run_dir / \"test\").glob('*/test_metrics.csv')))\n",
    "    df = pd.read_csv(metric_file, dtype={'basin': str})\n",
    "    df.set_index(\"basin\", inplace=True)\n",
    "    return df"
   ]
  },
  {
   "cell_type": "markdown",
   "metadata": {},
   "source": [
    "# Literature over time\n",
    "\n",
    "Search query: LSTM hydrology\n",
    "Search date: September 18, 2023\n",
    "Each years number is taking by filtering only publications for the respective year."
   ]
  },
  {
   "cell_type": "code",
   "execution_count": 9,
   "metadata": {},
   "outputs": [
    {
     "data": {
      "image/png": "[encoded data removed]",
      "text/plain": [
       "<Figure size 235.276x141.732 with 1 Axes>"
      ]
     },
     "metadata": {
      "needs_background": "light"
     },
     "output_type": "display_data"
    }
   ],
   "source": [
    "df = pd.DataFrame.from_dict({\n",
    "    2017: 75,\n",
    "    2018: 274,\n",
    "    2019: 571,\n",
    "    2020: 1230,\n",
    "    2021: 2300,\n",
    "    2022: 3620,\n",
    "}, orient=\"index\", columns=[\"publication_count\"])\n",
    "\n",
    "fig, ax = plt.subplots(figsize=cm2inch(8.3, 5))\n",
    "_ = ax.bar(df.index.to_list(), df.publication_count.to_list())\n",
    "ax.set_xlabel(\"Year\")\n",
    "ax.set_ylabel(\"Publication count\")\n",
    "plt.savefig(FIGURE_DIR / \"publication_count_over_time.pdf\", bbox_inches=\"tight\", format=\"pdf\")"
   ]
  },
  {
   "cell_type": "markdown",
   "metadata": {},
   "source": [
    "# Single vs regional model"
   ]
  },
  {
   "cell_type": "markdown",
   "metadata": {},
   "source": [
    "## Load benchmark model results"
   ]
  },
  {
   "cell_type": "code",
   "execution_count": 10,
   "metadata": {},
   "outputs": [
    {
     "data": {
      "application/vnd.jupyter.widget-view+json": {
       "model_id": "40e894ee16e4472e9719964610ad33a4",
       "version_major": 2,
       "version_minor": 0
      },
      "text/plain": [
       "0it [00:00, ?it/s]"
      ]
     },
     "metadata": {},
     "output_type": "display_data"
    }
   ],
   "source": [
    "required_models = [\"VIC_basin\", \"VIC_conus\", \"mHm_basin\", \"mHm_conus\"]\n",
    "\n",
    "benchmark_metrics = {m: {} for m in required_models}\n",
    "for fp in tqdm(BENCHMARK_MODEL_DIR.glob(\"*.nc\")):\n",
    "    ds = xr.open_dataset(fp)\n",
    "    if all([m in ds.data_vars for m in required_models]):\n",
    "        basin = fp.stem.split('_')[0]\n",
    "        for model in required_models:\n",
    "            benchmark_metrics[model][basin] = metrics_lib.nse(obs=ds[\"QObs\"], sim=ds[model])\n",
    "\n",
    "benchmark_df = pd.DataFrame.from_dict(benchmark_metrics, orient=\"columns\")"
   ]
  },
  {
   "cell_type": "markdown",
   "metadata": {},
   "source": [
    "# Load all run data"
   ]
  },
  {
   "cell_type": "code",
   "execution_count": 79,
   "metadata": {},
   "outputs": [],
   "source": [
    "metrics = ['NSE', 'KGE', 'Pearson-r', 'Alpha-NSE', 'Beta-NSE', 'Beta-KGE', 'Peak-Timing', 'Missed-Peaks']"
   ]
  },
  {
   "cell_type": "markdown",
   "metadata": {},
   "source": [
    "## Regional model"
   ]
  },
  {
   "cell_type": "code",
   "execution_count": 69,
   "metadata": {},
   "outputs": [
    {
     "data": {
      "application/vnd.jupyter.widget-view+json": {
       "model_id": "d31f101d7ce94ee48390627289e8d6ef",
       "version_major": 2,
       "version_minor": 0
      },
      "text/plain": [
       "0it [00:00, ?it/s]"
      ]
     },
     "metadata": {},
     "output_type": "display_data"
    },
    {
     "data": {
      "application/vnd.jupyter.widget-view+json": {
       "model_id": "ff34c648c6e245259af288e5e7daf55e",
       "version_major": 2,
       "version_minor": 0
      },
      "text/plain": [
       "0it [00:00, ?it/s]"
      ]
     },
     "metadata": {},
     "output_type": "display_data"
    },
    {
     "data": {
      "application/vnd.jupyter.widget-view+json": {
       "model_id": "86dd0d9de62a428291fec219ffb7b516",
       "version_major": 2,
       "version_minor": 0
      },
      "text/plain": [
       "0it [00:00, ?it/s]"
      ]
     },
     "metadata": {},
     "output_type": "display_data"
    },
    {
     "data": {
      "application/vnd.jupyter.widget-view+json": {
       "model_id": "aa98ff7c18d341f3b4d3eb62053c4e01",
       "version_major": 2,
       "version_minor": 0
      },
      "text/plain": [
       "0it [00:00, ?it/s]"
      ]
     },
     "metadata": {},
     "output_type": "display_data"
    },
    {
     "data": {
      "application/vnd.jupyter.widget-view+json": {
       "model_id": "a3f5e9d78c1c40f18e3e2d30083a54e7",
       "version_major": 2,
       "version_minor": 0
      },
      "text/plain": [
       "0it [00:00, ?it/s]"
      ]
     },
     "metadata": {},
     "output_type": "display_data"
    },
    {
     "data": {
      "application/vnd.jupyter.widget-view+json": {
       "model_id": "c9a6139ea01e4046819abd8dc5fa080b",
       "version_major": 2,
       "version_minor": 0
      },
      "text/plain": [
       "0it [00:00, ?it/s]"
      ]
     },
     "metadata": {},
     "output_type": "display_data"
    },
    {
     "data": {
      "application/vnd.jupyter.widget-view+json": {
       "model_id": "20494344a09a42848913571100c78812",
       "version_major": 2,
       "version_minor": 0
      },
      "text/plain": [
       "0it [00:00, ?it/s]"
      ]
     },
     "metadata": {},
     "output_type": "display_data"
    },
    {
     "data": {
      "application/vnd.jupyter.widget-view+json": {
       "model_id": "8fe6e14491ef451faea19fb3bf0b32dc",
       "version_major": 2,
       "version_minor": 0
      },
      "text/plain": [
       "0it [00:00, ?it/s]"
      ]
     },
     "metadata": {},
     "output_type": "display_data"
    }
   ],
   "source": [
    "metrics_dfs_regional = {}\n",
    "\n",
    "for metric in metrics:\n",
    "    dfs = []\n",
    "    for run_dir in tqdm((RUN_DIRS / \"regional_model\").glob('*')):\n",
    "        repetition_count = run_dir.name.split('_')[-3]\n",
    "        df = get_test_metrics(run_dir)\n",
    "        df.rename(columns={metric: f'regional_model_{repetition_count}'}, inplace=True)\n",
    "        dfs.append(df[[f'regional_model_{repetition_count}']])\n",
    "\n",
    "    metrics_dfs_regional[metric] = pd.concat(dfs, axis=1)\n",
    "\n",
    "df_regional = metrics_dfs_regional['NSE'].copy()"
   ]
  },
  {
   "cell_type": "markdown",
   "metadata": {},
   "source": [
    "## Single basin models"
   ]
  },
  {
   "cell_type": "code",
   "execution_count": 16,
   "metadata": {},
   "outputs": [
    {
     "data": {
      "application/vnd.jupyter.widget-view+json": {
       "model_id": "0e83e4df5dd24384a59c9a9671c71aca",
       "version_major": 2,
       "version_minor": 0
      },
      "text/plain": [
       "  0%|          | 0/529 [00:00<?, ?it/s]"
      ]
     },
     "metadata": {},
     "output_type": "display_data"
    }
   ],
   "source": [
    "basins = list(set([x.name.split('_')[0][-8:] for x in (RUN_DIRS / \"single_basins_multi_forcings\").glob('*')]))\n",
    "num_reps = 10\n",
    "metrics_reps_series = {metric: {rep: [] for rep in range(num_reps)} for metric in metrics}\n",
    "\n",
    "for basin in tqdm(basins):\n",
    "    for run_dir in (RUN_DIRS / \"single_basins_multi_forcings\").glob(f\"basin{basin}_*\"):\n",
    "        repetition_count = run_dir.name.split('_')[-3]\n",
    "        basin_run_df = get_test_metrics(run_dir)\n",
    "        for metric in metrics:\n",
    "            metric_series = basin_run_df[metric].copy().rename(f'single_basin_{repetition_count}')\n",
    "            metrics_reps_series[metric][int(repetition_count)].append(metric_series)\n",
    "\n",
    "metrics_dfs_single = {}\n",
    "for metric in metrics:\n",
    "    dfs = []\n",
    "    for rep in range(num_reps):\n",
    "        dfs.append(pd.concat(metrics_reps_series[metric][rep], axis=0))\n",
    "    metrics_dfs_single[metric] = pd.concat(dfs, axis=1)\n",
    "\n",
    "# For backwards compatability\n",
    "df_single = metrics_dfs_single['NSE'].copy()"
   ]
  },
  {
   "cell_type": "markdown",
   "metadata": {},
   "source": [
    "## Size splits"
   ]
  },
  {
   "cell_type": "code",
   "execution_count": 17,
   "metadata": {},
   "outputs": [
    {
     "data": {
      "application/vnd.jupyter.widget-view+json": {
       "model_id": "069f503de0054729901a4c433ef92626",
       "version_major": 2,
       "version_minor": 0
      },
      "text/plain": [
       "  0%|          | 0/6 [00:00<?, ?it/s]"
      ]
     },
     "metadata": {},
     "output_type": "display_data"
    }
   ],
   "source": [
    "all_sizes = sorted(list(set([int(x.stem.split(\"_\")[1]) for x in (RUN_DIRS / \"size_splits\").glob('*')])))\n",
    "\n",
    "size_split_to_df = {}\n",
    "for size_split in tqdm(all_sizes):\n",
    "    df_list_1 = []\n",
    "    for ensemble_count in range(10):\n",
    "        df_list_2 = []\n",
    "        for run_dir in (RUN_DIRS / \"size_splits\").glob(f\"size_{size_split}_*_experiment_name_{ensemble_count}*\"):\n",
    "            df = get_test_metrics(run_dir)\n",
    "            df = df[[\"NSE\"]]  # Only keep NSE column\n",
    "            df.rename(columns={'NSE': f'size_{size_split}_{ensemble_count}'}, inplace=True)\n",
    "            df_list_2.append(df)\n",
    "        df_list_1.append(pd.concat(df_list_2, axis=0))\n",
    "    size_split_to_df[size_split] = pd.concat(df_list_1, axis=1)"
   ]
  },
  {
   "cell_type": "markdown",
   "metadata": {},
   "source": [
    "## Attribute splits"
   ]
  },
  {
   "cell_type": "code",
   "execution_count": 18,
   "metadata": {},
   "outputs": [
    {
     "data": {
      "application/vnd.jupyter.widget-view+json": {
       "model_id": "5689c83f061c4b60bd57b802fc30ff70",
       "version_major": 2,
       "version_minor": 0
      },
      "text/plain": [
       "  0%|          | 0/10 [00:00<?, ?it/s]"
      ]
     },
     "metadata": {},
     "output_type": "display_data"
    }
   ],
   "source": [
    "df_list_1 = []\n",
    "for ensemble_count in tqdm(range(10)):\n",
    "    df_list_2 = []\n",
    "    for run_dir in (RUN_DIRS / \"attributes_cluster_splits\").glob(f\"*_experiment_name_{ensemble_count}_*\"):\n",
    "        df = get_test_metrics(run_dir)\n",
    "        df = df[[\"NSE\"]]\n",
    "        df.rename(columns={'NSE': f'attribute_cluster_split_{ensemble_count}'}, inplace=True)\n",
    "        df_list_2.append(df)\n",
    "    df_list_1.append(pd.concat(df_list_2, axis=0))\n",
    "df_attribute_splits = pd.concat(df_list_1, axis=1)\n",
    "        \n",
    "        "
   ]
  },
  {
   "cell_type": "markdown",
   "metadata": {},
   "source": [
    "## HUC split"
   ]
  },
  {
   "cell_type": "code",
   "execution_count": 19,
   "metadata": {},
   "outputs": [
    {
     "data": {
      "application/vnd.jupyter.widget-view+json": {
       "model_id": "1f646f31b0fb40b698de226fa5fc4c38",
       "version_major": 2,
       "version_minor": 0
      },
      "text/plain": [
       "  0%|          | 0/10 [00:00<?, ?it/s]"
      ]
     },
     "metadata": {},
     "output_type": "display_data"
    }
   ],
   "source": [
    "df_list_1 = []\n",
    "for ensemble_count in tqdm(range(10)):\n",
    "    df_list_2 = []\n",
    "    for run_dir in (RUN_DIRS / \"huc_splits\").glob(f\"*_experiment_name_{ensemble_count}_*\"):\n",
    "        df = get_test_metrics(run_dir)\n",
    "        df = df[[\"NSE\"]]\n",
    "        df.rename(columns={'NSE': f'huc_split_{ensemble_count}'}, inplace=True)\n",
    "        df_list_2.append(df)\n",
    "    df_list_1.append(pd.concat(df_list_2, axis=0))\n",
    "df_huc_splits = pd.concat(df_list_1, axis=1)\n",
    "        \n",
    "        "
   ]
  },
  {
   "cell_type": "markdown",
   "metadata": {},
   "source": [
    "# Benchmark model plot"
   ]
  },
  {
   "cell_type": "code",
   "execution_count": 20,
   "metadata": {},
   "outputs": [],
   "source": [
    "model_to_plot_def = {\n",
    "    'VIC_basin': {'color': 'C1', 'ls': '--', 'label': 'VIC (basin)'},\n",
    "    'VIC_conus': {'color': 'C0', 'ls': '--', 'label': 'VIC (regional)'},\n",
    "    'mHm_basin': {'color': 'C1', 'ls': '-', 'label': 'mHM (basin)'},\n",
    "    'mHm_conus': {'color': 'C0', 'ls': '-', 'label': 'mHM (regional)'},\n",
    "    'lstm_basin': {'color': 'C1', 'ls': '-', 'label': 'LSTM (basin)'},\n",
    "    'lstm_regional': {'color': 'C0', 'ls': '-', 'label': 'LSTM (regional)'}\n",
    "\n",
    "}"
   ]
  },
  {
   "cell_type": "code",
   "execution_count": 107,
   "metadata": {},
   "outputs": [
    {
     "data": {
      "image/png": "[encoded data removed]",
      "text/plain": [
       "<Figure size 340.157x141.732 with 2 Axes>"
      ]
     },
     "metadata": {
      "needs_background": "light"
     },
     "output_type": "display_data"
    }
   ],
   "source": [
    "fig, ax = plt.subplots(figsize=cm2inch(12, 5), ncols=2)\n",
    "\n",
    "# Color definitions\n",
    "alpha=0.2\n",
    "\n",
    "# Plot for benchmark models\n",
    "for model, plot_def in model_to_plot_def.items():\n",
    "    if model.startswith(\"lstm\"):\n",
    "        continue\n",
    "    xs, ys = ecdf(benchmark_df[model])\n",
    "    ax[0].plot(xs, ys, color=plot_def[\"color\"], ls=plot_def[\"ls\"], label=plot_def[\"label\"])\n",
    "\n",
    "ax[0].legend()\n",
    "\n",
    "# Plot LSTM results\n",
    "for i in range(10):\n",
    "    xs, ys = ecdf(df_single[f\"single_basin_{i}\"].values)\n",
    "    # Only add label for first ensemble member\n",
    "    if i == 0:\n",
    "        ax[1].plot(xs, ys, color=model_to_plot_def[\"lstm_basin\"][\"color\"], ls=model_to_plot_def[\"lstm_basin\"][\"ls\"], label=model_to_plot_def[\"lstm_basin\"][\"label\"], alpha=alpha)\n",
    "    else:\n",
    "        ax[1].plot(xs, ys, color=model_to_plot_def[\"lstm_basin\"][\"color\"], ls=model_to_plot_def[\"lstm_basin\"][\"ls\"], alpha=alpha)\n",
    "\n",
    "    xs, ys = ecdf(df_regional[f\"regional_model_{i}\"].values)\n",
    "    # Only add label for first ensemble member\n",
    "    if i == 0:\n",
    "        ax[1].plot(xs, ys, color=model_to_plot_def[\"lstm_regional\"][\"color\"], ls=model_to_plot_def[\"lstm_regional\"][\"ls\"], label=model_to_plot_def[\"lstm_regional\"][\"label\"], alpha=alpha)\n",
    "    else:\n",
    "        ax[1].plot(xs, ys, color=model_to_plot_def[\"lstm_regional\"][\"color\"], ls=model_to_plot_def[\"lstm_regional\"][\"ls\"], alpha=alpha)\n",
    "\n",
    "lines_for_legend = [mpl.lines.Line2D([0], [0], color='C0'), mpl.lines.Line2D([0], [0], color='C1')]\n",
    "labels_for_legend = ['LSTM (regional)', 'LSTM (basin)']\n",
    "ax[1].legend(lines_for_legend, labels_for_legend)\n",
    "\n",
    "for i in range(2):\n",
    "    ax[i].set_xlim(0, 1)\n",
    "    ax[i].set_ylim(0, 1) \n",
    "    ax[i].set_xlabel(\"NSE\")\n",
    "    ax[i].set_ylabel(\"CDF\")\n",
    "    ax[i].grid(alpha=0.3, axis='y')\n",
    "\n",
    "fig.tight_layout()\n",
    "\n",
    "plt.savefig(FIGURE_DIR / \"benchmark_vs_lstm_single_vs_regional.pdf\", bbox_inches=\"tight\", format=\"pdf\")"
   ]
  },
  {
   "cell_type": "markdown",
   "metadata": {},
   "source": [
    "# Other Hydrological Metrics"
   ]
  },
  {
   "cell_type": "code",
   "execution_count": 80,
   "metadata": {},
   "outputs": [],
   "source": [
    "metrics_axis_limits = {\n",
    "    'NSE': (0, 1),\n",
    "    'KGE': (0, 1),\n",
    "    'Pearson-r': (0.5, 1),\n",
    "    'Alpha-NSE': (0.5, 1.1),\n",
    "    'Beta-NSE': (-0.1, 0.1),\n",
    "    'Beta-KGE': (0.5, 1.1),\n",
    "    'Peak-Timing': (0, 2),\n",
    "    'Missed-Peaks': (0, 1),\n",
    "}"
   ]
  },
  {
   "cell_type": "code",
   "execution_count": 81,
   "metadata": {},
   "outputs": [
    {
     "data": {
      "image/png": "[encoded data removed]",
      "text/plain": [
       "<Figure size 340.157x141.732 with 8 Axes>"
      ]
     },
     "metadata": {
      "needs_background": "light"
     },
     "output_type": "display_data"
    }
   ],
   "source": [
    "fig, axes = plt.subplots(2, 4, figsize=cm2inch(12, 5))\n",
    "\n",
    "# Color definitions\n",
    "alpha=0.2\n",
    "\n",
    "for ax, metric in zip(axes.flatten(), metrics):\n",
    "    for i in range(10):\n",
    "        xs, ys = ecdf(metrics_dfs_single[metric][f\"single_basin_{i}\"].values)\n",
    "        if i == 0:\n",
    "            ax.plot(xs, ys, color=model_to_plot_def[\"lstm_basin\"][\"color\"], ls=model_to_plot_def[\"lstm_basin\"][\"ls\"], label=model_to_plot_def[\"lstm_basin\"][\"label\"], alpha=alpha)\n",
    "        else:\n",
    "            ax.plot(xs, ys, color=model_to_plot_def[\"lstm_basin\"][\"color\"], ls=model_to_plot_def[\"lstm_basin\"][\"ls\"], alpha=alpha)\n",
    "\n",
    "        xs, ys = ecdf(metrics_dfs_regional[metric][f\"regional_model_{i}\"].values)\n",
    "        if i == 0:\n",
    "            ax.plot(xs, ys, color=model_to_plot_def[\"lstm_regional\"][\"color\"], ls=model_to_plot_def[\"lstm_regional\"][\"ls\"], label=model_to_plot_def[\"lstm_regional\"][\"label\"], alpha=alpha)\n",
    "        else:\n",
    "            ax.plot(xs, ys, color=model_to_plot_def[\"lstm_regional\"][\"color\"], ls=model_to_plot_def[\"lstm_regional\"][\"ls\"], alpha=alpha)\n",
    "\n",
    "        ax.set_xlim(metrics_axis_limits[metric])\n",
    "        ax.set_ylim(0, 1)\n",
    "        ax.set_xlabel(metric)\n",
    "    if ax in axes[0]:\n",
    "        ax.set_ylabel(\"CDF\")\n",
    "    \n",
    "lines_for_legend = [mpl.lines.Line2D([0], [0], color='C0'), mpl.lines.Line2D([0], [0], color='C1')]\n",
    "labels_for_legend = ['LSTM (regional)', 'LSTM (basin)']\n",
    "\n",
    "fig.legend(lines_for_legend, labels_for_legend, loc=8, ncol=2)\n",
    "\n",
    "fig.tight_layout()\n",
    "\n",
    "plt.savefig(FIGURE_DIR / \"other-metrics.pdf\", bbox_inches=\"tight\", format=\"pdf\")"
   ]
  },
  {
   "cell_type": "markdown",
   "metadata": {},
   "source": [
    "# Example hydrograph"
   ]
  },
  {
   "cell_type": "markdown",
   "metadata": {},
   "source": [
    "## Load data"
   ]
  },
  {
   "cell_type": "code",
   "execution_count": 52,
   "metadata": {},
   "outputs": [],
   "source": [
    "basin = '13011900'\n",
    "ensemble_member = 0\n",
    "\n",
    "run_dir = more_itertools.one(list((RUN_DIRS / \"regional_model\").glob(f'*_ensemble_member_{ensemble_count}*')))\n",
    "test_data_file = more_itertools.one(list((run_dir / \"test\").glob('*/test_results.p')))\n",
    "with test_data_file.open(\"rb\") as fp:\n",
    "    regional_sim = pickle.load(fp)\n",
    "\n",
    "run_dir = more_itertools.one(list((RUN_DIRS / \"single_basins_multi_forcings\").glob(f'basin{basin}*_ensemble_member_{ensemble_count}*')))\n",
    "test_data_file = more_itertools.one(list((run_dir / \"test\").glob('*/test_results.p')))\n",
    "with test_data_file.open(\"rb\") as fp:\n",
    "    single_sim = pickle.load(fp)"
   ]
  },
  {
   "cell_type": "markdown",
   "metadata": {},
   "source": [
    "## Create plot"
   ]
  },
  {
   "cell_type": "code",
   "execution_count": 53,
   "metadata": {},
   "outputs": [
    {
     "data": {
      "image/png": "[encoded data removed]",
      "text/plain": [
       "<Figure size 340.157x226.772 with 2 Axes>"
      ]
     },
     "metadata": {
      "needs_background": "light"
     },
     "output_type": "display_data"
    }
   ],
   "source": [
    "fig, ax = plt.subplots(figsize=cm2inch(12, 8), nrows=2, sharex=True)\n",
    "\n",
    "regional_sim[basin][\"1D\"][\"xr\"][\"QObs(mm/d)_obs\"].sel(time_step=0).plot(ax=ax[0], label=\"Observation\")\n",
    "regional_sim[basin][\"1D\"][\"xr\"][\"QObs(mm/d)_sim\"].sel(time_step=0).plot(ax=ax[0], label=\"Simulation\")\n",
    "\n",
    "ax[0].set_xlim(single_sim[basin][\"1D\"][\"xr\"][\"date\"].values[0], single_sim[basin][\"1D\"][\"xr\"][\"date\"].values[-1])\n",
    "ax[0].set_title('Regional model')\n",
    "ax[0].set_xlabel('')\n",
    "ax[0].set_ylabel(\"Dischage (mm/d)\")\n",
    "ax[0].legend()\n",
    "\n",
    "single_sim[basin][\"1D\"][\"xr\"][\"QObs(mm/d)_obs\"].sel(time_step=0).plot(ax=ax[1], label=\"Observation\")\n",
    "single_sim[basin][\"1D\"][\"xr\"][\"QObs(mm/d)_sim\"].sel(time_step=0).plot(ax=ax[1], label=\"Simulation\") #, color=\"C2\")\n",
    "\n",
    "ax[1].set_xlabel(\"Date\")\n",
    "ax[1].set_ylabel(\"Dischage (mm/d)\")\n",
    "ax[1].set_title(\"Single basin model\")\n",
    "ax[1].legend()\n",
    "\n",
    "plt.tight_layout()\n",
    "plt.savefig(FIGURE_DIR / \"simulations_example_2plots.pdf\", bbox_inches=\"tight\", format=\"pdf\")"
   ]
  },
  {
   "cell_type": "markdown",
   "metadata": {},
   "source": [
    "# Regional model validation metric over epoch"
   ]
  },
  {
   "cell_type": "code",
   "execution_count": 54,
   "metadata": {},
   "outputs": [
    {
     "data": {
      "image/png": "[encoded data removed]",
      "text/plain": [
       "<Figure size 235.276x141.732 with 1 Axes>"
      ]
     },
     "metadata": {
      "needs_background": "light"
     },
     "output_type": "display_data"
    }
   ],
   "source": [
    "fig, ax = plt.subplots(figsize=cm2inch(8.3, 5))\n",
    "\n",
    "for run_dir in (RUN_DIRS / \"regional_model\").glob('*'):\n",
    "    event_file = more_itertools.one(list(run_dir.glob('event*')))\n",
    "    validation_metrics = get_validation_data_as_series(event_file, name=\"regional_model\")\n",
    "    validation_metrics.plot(ax=ax, color=\"C0\", alpha=0.2)\n",
    "ax.set_ylabel(\"NSE\")\n",
    "\n",
    "plt.savefig(FIGURE_DIR / \"regional_model_validation_over_epoch.pdf\", bbox_inches=\"tight\", format=\"pdf\")"
   ]
  },
  {
   "cell_type": "markdown",
   "metadata": {},
   "source": [
    "# Saturation plots\n",
    "\n",
    "All saturation plots are generated for single seeds. If you want to check different seeds, adapt the ensemble_member variable."
   ]
  },
  {
   "cell_type": "markdown",
   "metadata": {},
   "source": [
    "## Regional model saturation limit"
   ]
  },
  {
   "cell_type": "code",
   "execution_count": 55,
   "metadata": {},
   "outputs": [],
   "source": [
    "ensemble_member = 0\n",
    "\n",
    "run_dir = more_itertools.one(list((RUN_DIRS / \"regional_model\").glob(f'*_ensemble_member_{ensemble_count}*')))\n",
    "\n",
    "# Scaler are required to transform the saturation limit into mm/day space\n",
    "scaler = nh_eval_utils.load_scaler(run_dir)  # xarray_feature_scale\n",
    "\n",
    "# Get weight file, assuming that only the weight file of the best epoch exist.\n",
    "weight_file = more_itertools.one(list(run_dir.glob('model_epoch*.pt')))\n",
    "model_weights = torch.load(weight_file, map_location=\"cpu\")\n",
    "\n",
    "# Compute model saturation limit. For details see paper appendix.\n",
    "regional_model_theoretical_limit = (model_weights['head.net.0.weight'].abs().sum() + model_weights['head.net.0.bias']).item() * scaler['xarray_feature_scale'][\"QObs(mm/d)\"].data + scaler['xarray_feature_center'][\"QObs(mm/d)\"].data"
   ]
  },
  {
   "cell_type": "markdown",
   "metadata": {},
   "source": [
    "## Single basin model saturation limit"
   ]
  },
  {
   "cell_type": "code",
   "execution_count": 57,
   "metadata": {},
   "outputs": [
    {
     "data": {
      "application/vnd.jupyter.widget-view+json": {
       "model_id": "1008c08ebe0d473a885f5ba605d9b34d",
       "version_major": 2,
       "version_minor": 0
      },
      "text/plain": [
       "  0%|          | 0/529 [00:00<?, ?it/s]"
      ]
     },
     "metadata": {},
     "output_type": "display_data"
    }
   ],
   "source": [
    "single_basin_to_theoretical_limit = {}\n",
    "for run_dir in tqdm((RUN_DIRS / \"single_basins_multi_forcings\").glob(f'*_ensemble_member_{ensemble_count}_*'), total=529):\n",
    "    # Basin is encoded at the beginning of the folder name\n",
    "    basin = run_dir.stem.split('_')[0][-8:]\n",
    "    \n",
    "    # Get weight file, assuming that only the weight file of the best epoch exist.\n",
    "    weight_file = more_itertools.one(list(run_dir.glob('model_epoch*.pt')))\n",
    "\n",
    "    model_weights = torch.load(weight_file, map_location=\"cpu\")\n",
    "    scaler = nh_eval_utils.load_scaler(run_dir)\n",
    "\n",
    "    single_basin_to_theoretical_limit[basin] = (model_weights['head.net.0.weight'].abs().sum() + model_weights['head.net.0.bias']).item() * scaler['xarray_feature_scale'][\"QObs(mm/d)\"].data + scaler['xarray_feature_center'][\"QObs(mm/d)\"].data\n"
   ]
  },
  {
   "cell_type": "markdown",
   "metadata": {},
   "source": [
    "## Number of timesteps above saturation limits"
   ]
  },
  {
   "cell_type": "code",
   "execution_count": 58,
   "metadata": {},
   "outputs": [
    {
     "data": {
      "application/vnd.jupyter.widget-view+json": {
       "model_id": "a312a5b6d0b04bc095529ac7c9af9f4a",
       "version_major": 2,
       "version_minor": 0
      },
      "text/plain": [
       "  0%|          | 0/529 [00:00<?, ?it/s]"
      ]
     },
     "metadata": {},
     "output_type": "display_data"
    },
    {
     "data": {
      "application/vnd.jupyter.widget-view+json": {
       "model_id": "1160e1e5fa1f4878a37abac3547419db",
       "version_major": 2,
       "version_minor": 0
      },
      "text/plain": [
       "  0%|          | 0/529 [00:00<?, ?it/s]"
      ]
     },
     "metadata": {},
     "output_type": "display_data"
    }
   ],
   "source": [
    "# Get train period statistics\n",
    "data = {\n",
    "    'obs_count_train_regional': {},\n",
    "    'obs_count_train_single': {},\n",
    "    'max_obs_train': {},\n",
    "    'obs_count_test_regional': {},\n",
    "    'obs_count_test_single':  {},\n",
    "    'max_obs_test': {}\n",
    "}\n",
    "\n",
    "# Load obs for all basins from regional model result files\n",
    "run_dir = more_itertools.one(list((RUN_DIRS / \"regional_model\").glob(f'*_ensemble_member_{ensemble_count}*')))\n",
    "train_data_file = more_itertools.one(list((run_dir / \"train\").glob('*/train_results.p')))\n",
    "with train_data_file.open(\"rb\") as fp:\n",
    "    train_results = pickle.load(fp)\n",
    "\n",
    "for basin in tqdm(single_basin_to_theoretical_limit.keys()):\n",
    "    ds = train_results[basin][\"1D\"][\"xr\"]\n",
    "    \n",
    "    data['obs_count_train_regional'][basin] = np.sum((ds[\"QObs(mm/d)_obs\"] > regional_model_theoretical_limit).values)\n",
    "    data['obs_count_train_single'][basin] = np.sum((ds[\"QObs(mm/d)_obs\"] > single_basin_to_theoretical_limit[basin]).values)\n",
    "    data['max_obs_train'][basin] = np.max(ds[\"QObs(mm/d)_obs\"].values)\n",
    "\n",
    "# Get test period statistics\n",
    "run_dir = more_itertools.one(list((RUN_DIRS / \"regional_model\").glob(f'*_ensemble_member_{ensemble_count}*')))\n",
    "test_data_file = more_itertools.one(list((run_dir / \"test\").glob('*/test_results.p')))\n",
    "with test_data_file.open(\"rb\") as fp:\n",
    "    test_results = pickle.load(fp)\n",
    "\n",
    "for basin in tqdm(single_basin_to_theoretical_limit.keys()):\n",
    "    ds = test_results[basin][\"1D\"][\"xr\"]\n",
    "    \n",
    "    data['obs_count_test_regional'][basin] = np.sum((ds[\"QObs(mm/d)_obs\"] > regional_model_theoretical_limit).values)\n",
    "    data['obs_count_test_single'][basin] = np.sum((ds[\"QObs(mm/d)_obs\"] > single_basin_to_theoretical_limit[basin]).values)\n",
    "    data['max_obs_test'][basin] = np.max(ds[\"QObs(mm/d)_obs\"].values)\n",
    "\n",
    "saturation_df = pd.DataFrame(data)"
   ]
  },
  {
   "cell_type": "markdown",
   "metadata": {},
   "source": [
    "## Merge data into one df"
   ]
  },
  {
   "cell_type": "code",
   "execution_count": 59,
   "metadata": {},
   "outputs": [
    {
     "data": {
      "text/html": [
       "<div>\n",
       "<style scoped>\n",
       "    .dataframe tbody tr th:only-of-type {\n",
       "        vertical-align: middle;\n",
       "    }\n",
       "\n",
       "    .dataframe tbody tr th {\n",
       "        vertical-align: top;\n",
       "    }\n",
       "\n",
       "    .dataframe thead th {\n",
       "        text-align: right;\n",
       "    }\n",
       "</style>\n",
       "<table border=\"1\" class=\"dataframe\">\n",
       "  <thead>\n",
       "    <tr style=\"text-align: right;\">\n",
       "      <th></th>\n",
       "      <th>obs_count_train_regional</th>\n",
       "      <th>obs_count_train_single</th>\n",
       "      <th>max_obs_train</th>\n",
       "      <th>obs_count_test_regional</th>\n",
       "      <th>obs_count_test_single</th>\n",
       "      <th>max_obs_test</th>\n",
       "      <th>saturation_limit_regional</th>\n",
       "      <th>saturation_limit_single</th>\n",
       "    </tr>\n",
       "  </thead>\n",
       "  <tbody>\n",
       "    <tr>\n",
       "      <th>01550000</th>\n",
       "      <td>0</td>\n",
       "      <td>1</td>\n",
       "      <td>55.172394</td>\n",
       "      <td>0</td>\n",
       "      <td>2</td>\n",
       "      <td>81.939194</td>\n",
       "      <td>183.57038</td>\n",
       "      <td>36.591027</td>\n",
       "    </tr>\n",
       "    <tr>\n",
       "      <th>01451800</th>\n",
       "      <td>0</td>\n",
       "      <td>0</td>\n",
       "      <td>42.437290</td>\n",
       "      <td>0</td>\n",
       "      <td>0</td>\n",
       "      <td>42.437290</td>\n",
       "      <td>183.57038</td>\n",
       "      <td>42.576399</td>\n",
       "    </tr>\n",
       "    <tr>\n",
       "      <th>02014000</th>\n",
       "      <td>0</td>\n",
       "      <td>0</td>\n",
       "      <td>34.527641</td>\n",
       "      <td>0</td>\n",
       "      <td>1</td>\n",
       "      <td>45.892735</td>\n",
       "      <td>183.57038</td>\n",
       "      <td>36.285318</td>\n",
       "    </tr>\n",
       "    <tr>\n",
       "      <th>08194200</th>\n",
       "      <td>0</td>\n",
       "      <td>23</td>\n",
       "      <td>33.448895</td>\n",
       "      <td>0</td>\n",
       "      <td>3</td>\n",
       "      <td>11.525764</td>\n",
       "      <td>183.57038</td>\n",
       "      <td>4.190887</td>\n",
       "    </tr>\n",
       "    <tr>\n",
       "      <th>01484100</th>\n",
       "      <td>0</td>\n",
       "      <td>2</td>\n",
       "      <td>17.836697</td>\n",
       "      <td>0</td>\n",
       "      <td>5</td>\n",
       "      <td>29.101978</td>\n",
       "      <td>183.57038</td>\n",
       "      <td>15.290792</td>\n",
       "    </tr>\n",
       "    <tr>\n",
       "      <th>...</th>\n",
       "      <td>...</td>\n",
       "      <td>...</td>\n",
       "      <td>...</td>\n",
       "      <td>...</td>\n",
       "      <td>...</td>\n",
       "      <td>...</td>\n",
       "      <td>...</td>\n",
       "      <td>...</td>\n",
       "    </tr>\n",
       "    <tr>\n",
       "      <th>07301410</th>\n",
       "      <td>0</td>\n",
       "      <td>1</td>\n",
       "      <td>2.881109</td>\n",
       "      <td>0</td>\n",
       "      <td>2</td>\n",
       "      <td>2.665203</td>\n",
       "      <td>183.57038</td>\n",
       "      <td>1.717399</td>\n",
       "    </tr>\n",
       "    <tr>\n",
       "      <th>01435000</th>\n",
       "      <td>0</td>\n",
       "      <td>4</td>\n",
       "      <td>68.536110</td>\n",
       "      <td>0</td>\n",
       "      <td>3</td>\n",
       "      <td>70.522659</td>\n",
       "      <td>183.57038</td>\n",
       "      <td>57.389179</td>\n",
       "    </tr>\n",
       "    <tr>\n",
       "      <th>14236200</th>\n",
       "      <td>0</td>\n",
       "      <td>2</td>\n",
       "      <td>115.280510</td>\n",
       "      <td>0</td>\n",
       "      <td>5</td>\n",
       "      <td>140.749451</td>\n",
       "      <td>183.57038</td>\n",
       "      <td>77.358247</td>\n",
       "    </tr>\n",
       "    <tr>\n",
       "      <th>01057000</th>\n",
       "      <td>0</td>\n",
       "      <td>0</td>\n",
       "      <td>36.001221</td>\n",
       "      <td>0</td>\n",
       "      <td>0</td>\n",
       "      <td>33.815434</td>\n",
       "      <td>183.57038</td>\n",
       "      <td>36.429783</td>\n",
       "    </tr>\n",
       "    <tr>\n",
       "      <th>02112360</th>\n",
       "      <td>0</td>\n",
       "      <td>1</td>\n",
       "      <td>29.022558</td>\n",
       "      <td>0</td>\n",
       "      <td>2</td>\n",
       "      <td>32.380539</td>\n",
       "      <td>183.57038</td>\n",
       "      <td>19.683420</td>\n",
       "    </tr>\n",
       "  </tbody>\n",
       "</table>\n",
       "<p>529 rows × 8 columns</p>\n",
       "</div>"
      ],
      "text/plain": [
       "          obs_count_train_regional  obs_count_train_single  max_obs_train  \\\n",
       "01550000                         0                       1      55.172394   \n",
       "01451800                         0                       0      42.437290   \n",
       "02014000                         0                       0      34.527641   \n",
       "08194200                         0                      23      33.448895   \n",
       "01484100                         0                       2      17.836697   \n",
       "...                            ...                     ...            ...   \n",
       "07301410                         0                       1       2.881109   \n",
       "01435000                         0                       4      68.536110   \n",
       "14236200                         0                       2     115.280510   \n",
       "01057000                         0                       0      36.001221   \n",
       "02112360                         0                       1      29.022558   \n",
       "\n",
       "          obs_count_test_regional  obs_count_test_single  max_obs_test  \\\n",
       "01550000                        0                      2     81.939194   \n",
       "01451800                        0                      0     42.437290   \n",
       "02014000                        0                      1     45.892735   \n",
       "08194200                        0                      3     11.525764   \n",
       "01484100                        0                      5     29.101978   \n",
       "...                           ...                    ...           ...   \n",
       "07301410                        0                      2      2.665203   \n",
       "01435000                        0                      3     70.522659   \n",
       "14236200                        0                      5    140.749451   \n",
       "01057000                        0                      0     33.815434   \n",
       "02112360                        0                      2     32.380539   \n",
       "\n",
       "          saturation_limit_regional  saturation_limit_single  \n",
       "01550000                  183.57038                36.591027  \n",
       "01451800                  183.57038                42.576399  \n",
       "02014000                  183.57038                36.285318  \n",
       "08194200                  183.57038                 4.190887  \n",
       "01484100                  183.57038                15.290792  \n",
       "...                             ...                      ...  \n",
       "07301410                  183.57038                 1.717399  \n",
       "01435000                  183.57038                57.389179  \n",
       "14236200                  183.57038                77.358247  \n",
       "01057000                  183.57038                36.429783  \n",
       "02112360                  183.57038                19.683420  \n",
       "\n",
       "[529 rows x 8 columns]"
      ]
     },
     "execution_count": 59,
     "metadata": {},
     "output_type": "execute_result"
    }
   ],
   "source": [
    "saturation_df['saturation_limit_regional'] = regional_model_theoretical_limit\n",
    "saturation_df[\"saturation_limit_single\"] = pd.Series(single_basin_to_theoretical_limit)\n",
    "saturation_df"
   ]
  },
  {
   "cell_type": "markdown",
   "metadata": {},
   "source": [
    "## Create plots"
   ]
  },
  {
   "cell_type": "code",
   "execution_count": 62,
   "metadata": {},
   "outputs": [
    {
     "data": {
      "image/png": "[encoded data removed]",
      "text/plain": [
       "<Figure size 340.157x141.732 with 2 Axes>"
      ]
     },
     "metadata": {
      "needs_background": "light"
     },
     "output_type": "display_data"
    }
   ],
   "source": [
    "fig, ax = plt.subplots(figsize=cm2inch(12, 5), ncols=2, sharey=True)\n",
    "\n",
    "saturation_df = saturation_df.sort_values(by='saturation_limit_single', ascending=False)\n",
    "\n",
    "ax[0].plot(list(range(len(saturation_df))), saturation_df['saturation_limit_regional'], label='Regional model limit')\n",
    "ax[0].scatter(list(range(len(saturation_df))), saturation_df['saturation_limit_single'], label='Single basin model limits', s=0.5)\n",
    "ax[0].scatter(list(range(len(saturation_df))), saturation_df['max_obs_train'], label='Max. discharge (train)', s=0.5)\n",
    "\n",
    "ax[0].set_xlabel(\"Basin count\")\n",
    "ax[0].set_ylabel(\"Discharge (mm/day)\")\n",
    "ax[0].legend()\n",
    "ax[0].set_title('Train Period')\n",
    "\n",
    "\n",
    "ax[1].plot(list(range(len(saturation_df))), saturation_df['saturation_limit_regional'], label='Regional model limit')\n",
    "ax[1].scatter(list(range(len(saturation_df))), saturation_df['saturation_limit_single'], label='Single basin model limits', s=0.5)\n",
    "ax[1].scatter(list(range(len(saturation_df))), saturation_df['max_obs_test'], label='Max. discharge (test)', s=0.5)\n",
    "\n",
    "ax[1].set_xlabel(\"Basin count\")\n",
    "ax[1].set_ylabel(\"Discharge (mm/day)\")\n",
    "ax[1].legend()\n",
    "ax[1].set_title('Test Period')\n",
    "\n",
    "plt.tight_layout()\n",
    "plt.savefig(FIGURE_DIR / \"saturation_figure_combined.pdf\", bbox_inches=\"tight\", format=\"pdf\")"
   ]
  },
  {
   "cell_type": "markdown",
   "metadata": {},
   "source": [
    "# Performance over different Size splits"
   ]
  },
  {
   "cell_type": "code",
   "execution_count": 74,
   "metadata": {},
   "outputs": [
    {
     "data": {
      "image/png": "[encoded data removed]",
      "text/plain": [
       "<Figure size 235.276x141.732 with 1 Axes>"
      ]
     },
     "metadata": {
      "needs_background": "light"
     },
     "output_type": "display_data"
    }
   ],
   "source": [
    "fig, ax = plt.subplots(figsize=cm2inch(8.3,5))\n",
    "x, y, y_err = [], [], []\n",
    "\n",
    "# single_basin\n",
    "x.append(1)\n",
    "y.append(df_single.median(axis=0).mean())\n",
    "y_err.append(df_single.median(axis=0).std())\n",
    "\n",
    "# size splits\n",
    "for size_split in sorted(all_sizes):\n",
    "    x.append(size_split)\n",
    "    y.append(size_split_to_df[size_split].median(axis=0).mean())\n",
    "    y_err.append(size_split_to_df[size_split].median(axis=0).std())\n",
    "\n",
    "# Regional model\n",
    "x.append(531)\n",
    "y.append(df_regional.median(axis=0).mean())\n",
    "y_err.append(df_regional.median(axis=0).std())\n",
    "\n",
    "ax.errorbar(x, y, yerr=y_err, ls='--', marker='.', markersize=5, ecolor=\"black\", capsize=1, capthick=0.2, label=\"Training size splits\")\n",
    "\n",
    "\n",
    "# ax.legend()\n",
    "ax.set_xlabel(\"Training set size\")\n",
    "ax.set_ylabel(\"NSE\")\n",
    "\n",
    "plt.savefig(FIGURE_DIR / \"performance_over_size_splits.pdf\", bbox_inches=\"tight\", format=\"pdf\")"
   ]
  },
  {
   "cell_type": "markdown",
   "metadata": {},
   "source": [
    "# Attribute- vs HUC- vs. Size-split"
   ]
  },
  {
   "cell_type": "markdown",
   "metadata": {},
   "source": [
    "## Get number of basin pro attribute/huc split"
   ]
  },
  {
   "cell_type": "code",
   "execution_count": 75,
   "metadata": {},
   "outputs": [],
   "source": [
    "cluster_counts = sorted(list(set([int(x.stem.split('_')[1]) for x in (RUN_DIRS / \"attributes_cluster_splits\").glob('*')])))\n",
    "cluster_counts\n",
    "\n",
    "cluster_to_basin_count = {}\n",
    "for cluster_count in cluster_counts:\n",
    "    # We can check the number of basins by looking at the test_metrics file of one ensemble member.\n",
    "    run_dir = more_itertools.one([x for x in (RUN_DIRS / \"attributes_cluster_splits\").glob(f'cluster_{cluster_count}_*_experiment_name_0_*')])\n",
    "\n",
    "    df = get_test_metrics(run_dir)\n",
    "    cluster_to_basin_count[cluster_count] = len(df)\n",
    "\n",
    "hucs = list(set([x.stem.split('_')[1] for x in (RUN_DIRS / \"huc_splits\").glob('*')]))\n",
    "hucs\n",
    "\n",
    "huc_to_basin_count = {}\n",
    "for huc in hucs:\n",
    "    # We can check the number of basins by looking at the test_metrics file of one ensemble member.\n",
    "    run_dir = more_itertools.one([x for x in (RUN_DIRS / \"huc_splits\").glob(f'huc_{huc}_*_experiment_name_0_*')])\n",
    "\n",
    "    df = get_test_metrics(run_dir)\n",
    "    huc_to_basin_count[huc] = len(df)"
   ]
  },
  {
   "cell_type": "markdown",
   "metadata": {},
   "source": [
    "## Create plot"
   ]
  },
  {
   "cell_type": "code",
   "execution_count": 76,
   "metadata": {},
   "outputs": [
    {
     "data": {
      "image/png": "[encoded data removed]",
      "text/plain": [
       "<Figure size 340.157x170.079 with 1 Axes>"
      ]
     },
     "metadata": {
      "needs_background": "light"
     },
     "output_type": "display_data"
    }
   ],
   "source": [
    "fig, ax = plt.subplots(figsize=cm2inch(12,6))\n",
    "x, y, y_err = [], [], []\n",
    "\n",
    "# single_basin\n",
    "x.append(1)\n",
    "y.append(df_single.median(axis=0).mean())\n",
    "y_err.append(df_single.median(axis=0).std())\n",
    "\n",
    "# size splits\n",
    "for size_split in sorted(all_sizes):\n",
    "    x.append(size_split)\n",
    "    y.append(size_split_to_df[size_split].median(axis=0).mean())\n",
    "    y_err.append(size_split_to_df[size_split].median(axis=0).std())\n",
    "\n",
    "# Regional model\n",
    "x.append(531)\n",
    "y.append(df_regional.median(axis=0).mean())\n",
    "y_err.append(df_regional.median(axis=0).std())\n",
    "\n",
    "ax.errorbar(x, y, yerr=y_err, ls='--', marker='.', markersize=5, ecolor=\"black\", capsize=1, capthick=0.2, label=\"Training size splits\")\n",
    "\n",
    "# Add attribute splits\n",
    "y = df_attribute_splits.median(axis=0).mean()\n",
    "std = df_attribute_splits.median(axis=0).std()\n",
    "ax.plot([0, 531], [y, y], color=\"C2\", label=\"Attribute cluster splits\")\n",
    "ax.plot([0, 531], [y-std, y-std], color=\"C2\", alpha=0.3, ls='--')\n",
    "ax.plot([0, 531], [y+std, y+std], color=\"C2\", alpha=0.3, ls='--')\n",
    "ax.scatter(list(cluster_to_basin_count.values()), [y]*len(cluster_to_basin_count), s=5, color=\"C2\")\n",
    "\n",
    "# Add huc splits\n",
    "y = df_huc_splits.median(axis=0).mean()\n",
    "std = df_huc_splits.median(axis=0).std()\n",
    "ax.plot([0, 531], [y, y], color=\"C1\", label='HUC Split')\n",
    "ax.plot([0, 531], [y-std, y-std], color=\"C1\", alpha=0.3, ls='--')\n",
    "ax.plot([0, 531], [y+std, y+std], color=\"C1\", alpha=0.3, ls='--')\n",
    "ax.scatter(list(huc_to_basin_count.values()), [y]*len(huc_to_basin_count), s=5, color=\"C1\")\n",
    "\n",
    "ax.legend()\n",
    "ax.set_xlabel(\"Training set size\")\n",
    "ax.set_ylabel(\"NSE\")\n",
    "\n",
    "\n",
    "plt.savefig(FIGURE_DIR / \"attribute_vs_huc_vs_size_split.pdf\", bbox_inches=\"tight\", format=\"pdf\")"
   ]
  },
  {
   "cell_type": "markdown",
   "metadata": {},
   "source": [
    "# Approach compared to regional model"
   ]
  },
  {
   "cell_type": "code",
   "execution_count": 77,
   "metadata": {},
   "outputs": [],
   "source": [
    "def compare_regional_to_other(df_regional, df_other, basins, alpha=0.05):\n",
    "    regional_better_count = 0\n",
    "    other_better_count = 0\n",
    "    both_equal = 0\n",
    "    for basin in basins:\n",
    "        regional_values = df_regional.loc[basin].values\n",
    "        other_values = df_other.loc[basin].values\n",
    "        _, p_value = wilcoxon(regional_values, other_values)\n",
    "\n",
    "        if (p_value < alpha) and (np.median(regional_values) > np.median(other_values)):\n",
    "            regional_better_count += 1\n",
    "        elif (p_value < alpha) and (np.median(regional_values) < np.median(other_values)):\n",
    "            other_better_count += 1\n",
    "        else:\n",
    "            both_equal += 1\n",
    "        \n",
    "    return {'statistically different (worse)': regional_better_count, 'statistically different (better)': other_better_count, 'not statistically different': both_equal}"
   ]
  },
  {
   "cell_type": "code",
   "execution_count": 78,
   "metadata": {},
   "outputs": [],
   "source": [
    "approach_compared_to_regional = {}\n",
    "\n",
    "approach_compared_to_regional[\"single_basin\"] = compare_regional_to_other(df_regional, df_single, basins)\n",
    "approach_compared_to_regional[\"size_11\"] = compare_regional_to_other(df_regional, size_split_to_df[11], basins)\n",
    "approach_compared_to_regional[\"size_27\"] = compare_regional_to_other(df_regional, size_split_to_df[27], basins)\n",
    "approach_compared_to_regional[\"size_54\"] = compare_regional_to_other(df_regional, size_split_to_df[54], basins)\n",
    "approach_compared_to_regional[\"size_107\"] = compare_regional_to_other(df_regional, size_split_to_df[107], basins)\n",
    "approach_compared_to_regional[\"size_178\"] = compare_regional_to_other(df_regional, size_split_to_df[178], basins)\n",
    "approach_compared_to_regional[\"size_266\"] = compare_regional_to_other(df_regional, size_split_to_df[266], basins)\n",
    "approach_compared_to_regional[\"attribute_cluster\"] = compare_regional_to_other(df_regional, df_attribute_splits, basins)\n",
    "approach_compared_to_regional[\"huc_split\"] = compare_regional_to_other(df_regional, df_huc_splits, basins)\n",
    "\n"
   ]
  },
  {
   "cell_type": "code",
   "execution_count": 82,
   "metadata": {},
   "outputs": [
    {
     "data": {
      "image/png": "[encoded data removed]",
      "text/plain": [
       "<Figure size 235.276x141.732 with 1 Axes>"
      ]
     },
     "metadata": {
      "needs_background": "light"
     },
     "output_type": "display_data"
    }
   ],
   "source": [
    "x_order = ['single_basin', 'size_11', 'size_27', 'size_54',  'huc_split', 'size_107', 'size_178', 'attribute_cluster', 'size_266']\n",
    "approach_to_label = {\n",
    "    'single_basin': \"Single basin\",\n",
    "    'size_11': '11 basins',\n",
    "    'size_27': '27 basins',\n",
    "    'size_54': '54 basins',\n",
    "    'huc_split': 'HUC splits',\n",
    "    'size_107': '107 basins',\n",
    "    'size_178': '178 basins',\n",
    "    'attribute_cluster': 'Attribute \\ncluster splits',\n",
    "    'size_266': '266 basins',\n",
    "}\n",
    "\n",
    "fig, ax = plt.subplots(figsize=cm2inch(8.3, 5))\n",
    "bottom = np.zeros(len(x_order))\n",
    "\n",
    "for category in [\"statistically different (worse)\", \"not statistically different\", \"statistically different (better)\"]:\n",
    "    values = []\n",
    "    for approach in x_order:\n",
    "        values.append(approach_compared_to_regional[approach][category])\n",
    "    height = np.array(values)\n",
    "    ax.bar([approach_to_label[x] for x in x_order], height, label=category, bottom=bottom)\n",
    "    bottom += height\n",
    "plt.xticks(rotation=90)\n",
    "\n",
    "ax.legend()\n",
    "\n",
    "plt.savefig(FIGURE_DIR / \"approach_compared_to_regional.pdf\", bbox_inches=\"tight\", format=\"pdf\")"
   ]
  },
  {
   "cell_type": "markdown",
   "metadata": {},
   "source": [
    "# Maps"
   ]
  },
  {
   "cell_type": "markdown",
   "metadata": {},
   "source": [
    "## Get Background map and gauge locations\n",
    "\n",
    "As a background, we use the HUC 02 map provided in the CAMELS US dataset."
   ]
  },
  {
   "cell_type": "code",
   "execution_count": 86,
   "metadata": {},
   "outputs": [],
   "source": [
    "# Load Huc shape layer\n",
    "gdf = gpd.read_file(PAPER_DIR / \"misc\" / \"shapefiles\" / \"huc_02\" / \"huc_02_simplified.gdb\")\n",
    "\n",
    "# We remove Alaska, Hawaii region, and Carribean region\n",
    "gdf = gdf.loc[~gdf.huc2.isin(['19', '20', '21', '22'])]\n",
    "\n",
    "# Get gauge locations from CAMELS dataset\n",
    "attributes_df = camelsus.load_camels_us_attributes(data_dir=CAMELS_DIR)"
   ]
  },
  {
   "cell_type": "markdown",
   "metadata": {},
   "source": [
    "## Get basins per huc and attribute cluster"
   ]
  },
  {
   "cell_type": "code",
   "execution_count": 87,
   "metadata": {},
   "outputs": [],
   "source": [
    "cluster_counts = sorted(list(set([int(x.stem.split('_')[1]) for x in (RUN_DIRS / \"attributes_cluster_splits\").glob('*')])))\n",
    "cluster_counts\n",
    "\n",
    "cluster_to_basin_ids = {}\n",
    "for cluster_count in cluster_counts:\n",
    "    # We can check the number of basins by looking at the test_metrics file of one ensemble member.\n",
    "    run_dir = more_itertools.one([x for x in (RUN_DIRS / \"attributes_cluster_splits\").glob(f'cluster_{cluster_count}_*_experiment_name_0_*')])\n",
    "\n",
    "    df = get_test_metrics(run_dir)\n",
    "    cluster_to_basin_ids[cluster_count] = df.index.to_list()\n",
    "\n",
    "hucs = list(set([x.stem.split('_')[1] for x in (RUN_DIRS / \"huc_splits\").glob('*')]))\n",
    "hucs\n",
    "\n",
    "huc_to_basin_ids = {}\n",
    "for huc in hucs:\n",
    "    # We can check the number of basins by looking at the test_metrics file of one ensemble member.\n",
    "    run_dir = more_itertools.one([x for x in (RUN_DIRS / \"huc_splits\").glob(f'huc_{huc}_*_experiment_name_0_*')])\n",
    "\n",
    "    df = get_test_metrics(run_dir)\n",
    "    huc_to_basin_ids[huc] = df.index.to_list()"
   ]
  },
  {
   "cell_type": "markdown",
   "metadata": {},
   "source": [
    "## Attribute split map"
   ]
  },
  {
   "cell_type": "code",
   "execution_count": 88,
   "metadata": {},
   "outputs": [
    {
     "data": {
      "image/png": "[encoded data removed]",
      "text/plain": [
       "<Figure size 340.157x283.465 with 1 Axes>"
      ]
     },
     "metadata": {
      "needs_background": "light"
     },
     "output_type": "display_data"
    }
   ],
   "source": [
    "fig, ax = plt.subplots(figsize=cm2inch(12, 10))\n",
    "\n",
    "gdf.plot(ax=ax, facecolor=\"white\", edgecolor=\"#cccccc\", linewidth=0.5)\n",
    "\n",
    "for cluster, basins_ids in cluster_to_basin_ids.items():\n",
    "    x = attributes_df.loc[basins_ids, 'gauge_lon'].values\n",
    "    y = attributes_df.loc[basins_ids, 'gauge_lat'].values\n",
    "    ax.scatter(x, y, color=f\"C{cluster}\", label=f\"Cluster {int(cluster)+1}\")\n",
    "\n",
    "\n",
    "ax.legend()\n",
    "ax.set_xlabel(\"Longitude\")\n",
    "ax.set_ylabel(\"Latitude\")\n",
    "\n",
    "plt.savefig(FIGURE_DIR / \"map_attribute_split.pdf\", bbox_inches=\"tight\", format=\"pdf\")\n"
   ]
  },
  {
   "cell_type": "markdown",
   "metadata": {},
   "source": [
    "## HUC split"
   ]
  },
  {
   "cell_type": "code",
   "execution_count": 103,
   "metadata": {},
   "outputs": [
    {
     "data": {
      "image/png": "[encoded data removed]",
      "text/plain": [
       "<Figure size 340.157x283.465 with 1 Axes>"
      ]
     },
     "metadata": {
      "needs_background": "light"
     },
     "output_type": "display_data"
    }
   ],
   "source": [
    "fig, ax = plt.subplots(figsize=cm2inch(12, 10))\n",
    "\n",
    "gdf.plot(ax=ax, facecolor=\"white\", edgecolor=\"#cccccc\", linewidth=0.5)\n",
    "\n",
    "for huc, basin_ids in sorted(huc_to_basin_ids.items()):\n",
    "    x = attributes_df.loc[basin_ids, 'gauge_lon'].values\n",
    "    y = attributes_df.loc[basin_ids, 'gauge_lat'].values\n",
    "    if int(huc) < 10:\n",
    "        marker = 'o'\n",
    "        color = f\"C{int(huc)}\"\n",
    "    else:\n",
    "        marker = '^'\n",
    "        color = f\"C{int(huc) - 10}\"\n",
    "    ax.scatter(x, y, color=color, marker=marker, label=f\"HUC {int(huc)}\")\n",
    "\n",
    "\n",
    "ax.legend()\n",
    "ax.set_xlabel(\"Longitude\")\n",
    "ax.set_ylabel(\"Latitude\")\n",
    "\n",
    "plt.savefig(FIGURE_DIR / \"map_huc_split.pdf\", bbox_inches=\"tight\", format=\"pdf\")\n"
   ]
  },
  {
   "cell_type": "markdown",
   "metadata": {},
   "source": [
    "## Size split"
   ]
  },
  {
   "cell_type": "code",
   "execution_count": 98,
   "metadata": {},
   "outputs": [
    {
     "data": {
      "image/png": "[encoded data removed]",
      "text/plain": [
       "<Figure size 340.157x283.465 with 1 Axes>"
      ]
     },
     "metadata": {
      "needs_background": "light"
     },
     "output_type": "display_data"
    }
   ],
   "source": [
    "split = '107'\n",
    "ensemble_count = 0\n",
    "\n",
    "fig, ax = plt.subplots(figsize=cm2inch(12, 10))\n",
    "\n",
    "gdf.plot(ax=ax, facecolor=\"white\", edgecolor=\"#cccccc\", linewidth=0.5)\n",
    "\n",
    "# Find all directories which belong to this size split.\n",
    "for i, run_dir in enumerate((RUN_DIRS / \"size_splits\").glob(f'size_{split}_*_experiment_name_{ensemble_count}_*')):\n",
    "\n",
    "    # Find the test_metrics.csv file and raise and error if more than one exist.\n",
    "    test_file = list((run_dir / \"test\").glob('*/test_metrics.csv'))\n",
    "    test_file = more_itertools.one(test_file)\n",
    "\n",
    "    _df = pd.read_csv(test_file, dtype={'basin': str})\n",
    "    basins = _df[\"basin\"].to_list()\n",
    "    \n",
    "    x = attributes_df.loc[basins, 'gauge_lon'].values\n",
    "    y = attributes_df.loc[basins, 'gauge_lat'].values\n",
    "\n",
    "    # if i < 10:\n",
    "    #     marker = '.'\n",
    "    #     color = f\"C{i}\"\n",
    "    # else:\n",
    "    #     marker = '^'\n",
    "    #     color = f\"C{i - 10}\"\n",
    "\n",
    "    ax.scatter(x, y, label=f\"Fold {i + 1}\")\n",
    "\n",
    "ax.legend()\n",
    "ax.set_xlabel(\"Longitude\")\n",
    "ax.set_ylabel(\"Latitude\")\n",
    "\n",
    "plt.savefig(FIGURE_DIR / \"map_size_split.pdf\", bbox_inches=\"tight\", format=\"pdf\")\n"
   ]
  },
  {
   "cell_type": "code",
   "execution_count": null,
   "metadata": {},
   "outputs": [],
   "source": []
  }
 ],
 "metadata": {
  "kernelspec": {
   "display_name": "Python 3 (ipykernel)",
   "language": "python",
   "name": "python3"
  },
  "language_info": {
   "codemirror_mode": {
    "name": "ipython",
    "version": 3
   },
   "file_extension": ".py",
   "mimetype": "text/x-python",
   "name": "python",
   "nbconvert_exporter": "python",
   "pygments_lexer": "ipython3",
   "version": "3.7.13"
  }
 },
 "nbformat": 4,
 "nbformat_minor": 2
}
